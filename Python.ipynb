{
  "nbformat": 4,
  "nbformat_minor": 0,
  "metadata": {
    "colab": {
      "name": "Python.ipynb",
      "provenance": [],
      "toc_visible": true
    },
    "kernelspec": {
      "name": "python3",
      "display_name": "Python 3"
    },
    "language_info": {
      "name": "python"
    }
  },
  "cells": [
    {
      "cell_type": "markdown",
      "source": [
        "# Variables\n",
        "\n",
        "Almacenan información de forma temporal\n"
      ],
      "metadata": {
        "id": "wUr-pDxIsIn_"
      }
    },
    {
      "cell_type": "markdown",
      "source": [
        "## Datos a tener en cuenta"
      ],
      "metadata": {
        "id": "SEnENwzLzvfY"
      }
    },
    {
      "cell_type": "markdown",
      "source": [
        ">- Se declaran dando un nombre > Ejemplo: miVariable\n",
        "- Se les debe asignar un valor y/o un tipo > Ejemplo: miVariable = 1 / miVariable = bool()\n",
        "- Si se le asigna un valor, python por defecto asigna un tipo de dato\n",
        "- Se \"destruyen\" cuando se deja de ejecutar el código\n",
        "- Es posible consultar o reemplazar su información en cualquier momento\n",
        "- Permite realizar cálculos para asignarle un valor\n",
        "- Son DINÁMICAS, lo que permite que almacenen diferentes tipos de datos, no solo el usado al crearla."
      ],
      "metadata": {
        "id": "s5rvm5pH5F95"
      }
    },
    {
      "cell_type": "markdown",
      "source": [
        "## Tipos"
      ],
      "metadata": {
        "id": "TkuMadTl_DvE"
      }
    },
    {
      "cell_type": "markdown",
      "source": [
        "### ENTEROS (Int / Integer)"
      ],
      "metadata": {
        "id": "tj2FIhyq-435"
      }
    },
    {
      "cell_type": "markdown",
      "source": [
        "> Números enteros, sin coma, positivos o negativos"
      ],
      "metadata": {
        "id": "Oyi8SOh9CiZk"
      }
    },
    {
      "cell_type": "code",
      "source": [
        "# << Presioná el botón play para ejecutar el código\n",
        "\n",
        "# EJEMPLO\n",
        "\n",
        "numerito = 1\n",
        "\n",
        "print('numerito tiene guardado el valor: ',numerito, \"y es del tipo: \", type(numerito))"
      ],
      "metadata": {
        "colab": {
          "base_uri": "https://localhost:8080/"
        },
        "id": "onubyXKA9b2m",
        "outputId": "824f3a26-e650-4845-c6e6-0f3af0e22499"
      },
      "execution_count": null,
      "outputs": [
        {
          "output_type": "stream",
          "name": "stdout",
          "text": [
            "numerito tiene guardado el valor:  1 y es del tipo:  <class 'int'>\n"
          ]
        }
      ]
    },
    {
      "cell_type": "markdown",
      "source": [
        "### FLOTANTES (Float)"
      ],
      "metadata": {
        "id": "4r3R2NMiBAvQ"
      }
    },
    {
      "cell_type": "markdown",
      "source": [
        "> Números decimales, con coma, positivos o negativos"
      ],
      "metadata": {
        "id": "i-w05QbYCmPi"
      }
    },
    {
      "cell_type": "code",
      "source": [
        "# << Presioná el botón play para ejecutar el código\n",
        "\n",
        "# EJEMPLO\n",
        "\n",
        "numerito_decimal = 1.5\n",
        "\n",
        "print('numerito_decimal tiene guardado el valor: ',numerito_decimal, \"y es del tipo: \", type(numerito_decimal))"
      ],
      "metadata": {
        "colab": {
          "base_uri": "https://localhost:8080/"
        },
        "id": "q7Z8uVGf9mdy",
        "outputId": "25fae9c4-f861-4f2f-d8b8-4106e6b0cf24"
      },
      "execution_count": null,
      "outputs": [
        {
          "output_type": "stream",
          "name": "stdout",
          "text": [
            "numerito_decimal tiene guardado el valor:  1.5 y es del tipo:  <class 'float'>\n"
          ]
        }
      ]
    },
    {
      "cell_type": "markdown",
      "source": [
        "### BOOLEANOS (Bool / Boolean)"
      ],
      "metadata": {
        "id": "Qt-hHGCzBPOb"
      }
    },
    {
      "cell_type": "markdown",
      "source": [
        "> Valor True (Veradero) o False (falso)"
      ],
      "metadata": {
        "id": "qmIHM09qCqGx"
      }
    },
    {
      "cell_type": "code",
      "source": [
        "# << Presioná el botón play para ejecutar el código\n",
        "\n",
        "# EJEMPLO\n",
        "\n",
        "booleana = True\n",
        "\n",
        "print('booleana tiene guardado el valor: ',booleana, \"y es del tipo: \", type(booleana))"
      ],
      "metadata": {
        "colab": {
          "base_uri": "https://localhost:8080/"
        },
        "id": "5VF9fXkA93fI",
        "outputId": "bd1d3a0c-2772-4ac0-9a3d-3df14995619f"
      },
      "execution_count": null,
      "outputs": [
        {
          "output_type": "stream",
          "name": "stdout",
          "text": [
            "booleana tiene guardado el valor:  True y es del tipo:  <class 'bool'>\n"
          ]
        }
      ]
    },
    {
      "cell_type": "markdown",
      "source": [
        "#### Modo de uso"
      ],
      "metadata": {
        "id": "PZgsR_BQKeJA"
      }
    },
    {
      "cell_type": "markdown",
      "source": [
        "> Las variables booleanas permiten realizarle consultas"
      ],
      "metadata": {
        "id": "a-0pyeEyKg1Y"
      }
    },
    {
      "cell_type": "code",
      "source": [
        "# << Presioná el botón play para ejecutar el código\n",
        "\n",
        "# EJEMPLO\n",
        "\n",
        "#creamos la variable y asignamos true o false, solo para que se genere como tipo booleano\n",
        "booleana = True\n",
        "# Hacemos una pregunta\n",
        "# Por ejemplo, vamos a preguntar si 3 es mayor que dos\n",
        "booleana = 3 > 2\n",
        "print(\"Es 3 mayor que 2?\",booleana)\n",
        "\n",
        "# Ahora preguntaremos si 1+2 es mayor que 2+2 sobre la misma variable\n",
        "booleana = (1+2) > (2+2) \n",
        "print('Es 1+2 mayor que 2+2?', booleana)"
      ],
      "metadata": {
        "colab": {
          "base_uri": "https://localhost:8080/"
        },
        "id": "-Q99105jKtqQ",
        "outputId": "429e1945-bb2d-4d6b-b5ac-a6aa5a61723a"
      },
      "execution_count": null,
      "outputs": [
        {
          "output_type": "stream",
          "name": "stdout",
          "text": [
            "Es 3 mayor que 2? True\n",
            "Es 1+2 mayor que 2+2? False\n"
          ]
        }
      ]
    },
    {
      "cell_type": "markdown",
      "source": [
        "### CADENA DE TEXTO (Str / String)"
      ],
      "metadata": {
        "id": "YDaS9StECwcb"
      }
    },
    {
      "cell_type": "markdown",
      "source": [
        "> Contiene una continuación de caracteres alfanuméricos"
      ],
      "metadata": {
        "id": "iojU6zsUC0z_"
      }
    },
    {
      "cell_type": "code",
      "source": [
        "# << Presioná el botón play para ejecutar el código\n",
        "\n",
        "# EJEMPLO\n",
        "\n",
        "miTexto = 'Hola Mundo'\n",
        "\n",
        "print('miTexto tiene guardado el valor: ',miTexto, \"y es del tipo: \", type(miTexto))"
      ],
      "metadata": {
        "colab": {
          "base_uri": "https://localhost:8080/"
        },
        "id": "lc1GmSE4-GGF",
        "outputId": "21a780af-3ac1-40df-9260-846235641724"
      },
      "execution_count": null,
      "outputs": [
        {
          "output_type": "stream",
          "name": "stdout",
          "text": [
            "miTexto tiene guardado el valor:  Hola Mundo y es del tipo:  <class 'str'>\n"
          ]
        }
      ]
    },
    {
      "cell_type": "markdown",
      "source": [
        "#### Operadores"
      ],
      "metadata": {
        "id": "FBAqhHCmHHfI"
      }
    },
    {
      "cell_type": "markdown",
      "source": [
        "> Permiten realizar operaciones entre distintas variables"
      ],
      "metadata": {
        "id": "hFReUDnOHKtl"
      }
    },
    {
      "cell_type": "markdown",
      "source": [
        "##### Concatenación (+)"
      ],
      "metadata": {
        "id": "w9ApH1bjHOHf"
      }
    },
    {
      "cell_type": "markdown",
      "source": [
        "> Se encarga de unir valores, como ser variables o un texto y una variable tipo string, etc."
      ],
      "metadata": {
        "id": "qm_yBlrFHXtk"
      }
    },
    {
      "cell_type": "code",
      "source": [
        "# << Presioná el botón play para ejecutar el código\n",
        "\n",
        "# EJEMPLO\n",
        "\n",
        "cadena_1 = \"Hola\"\n",
        "print(cadena_1)\n",
        "cadena_2 = \"Como va?\"\n",
        "print(cadena_2)\n",
        "cadena_final = cadena_1 + cadena_2\n",
        "print(cadena_final)"
      ],
      "metadata": {
        "colab": {
          "base_uri": "https://localhost:8080/"
        },
        "id": "oZ5OIfhHHfcD",
        "outputId": "d7a02f0a-dd67-4d38-f47b-b68bdd37c468"
      },
      "execution_count": null,
      "outputs": [
        {
          "output_type": "stream",
          "name": "stdout",
          "text": [
            "Hola\n",
            "Como va?\n",
            "HolaComo va?\n"
          ]
        }
      ]
    },
    {
      "cell_type": "markdown",
      "source": [
        "# Tipos de datos"
      ],
      "metadata": {
        "id": "tPv85O_L0Pzq"
      }
    },
    {
      "cell_type": "markdown",
      "source": [
        "### Numérico"
      ],
      "metadata": {
        "id": "XADayis58dY6"
      }
    },
    {
      "cell_type": "markdown",
      "source": [
        "#### ENTEROS (Int / Integer)"
      ],
      "metadata": {
        "id": "ARzDGnIH9HnK"
      }
    },
    {
      "cell_type": "markdown",
      "source": [
        "> Números enteros, positivos o negativos"
      ],
      "metadata": {
        "id": "MaEjWQmx9P7l"
      }
    },
    {
      "cell_type": "code",
      "source": [
        "# << Presioná el botón play para ejecutar el código\n",
        "\n",
        "# EJEMPLO\n",
        "\n",
        "x = 10\n",
        "y = 19235123\n",
        "\n",
        "print(x,y)\n",
        "print(type(x),type(y))"
      ],
      "metadata": {
        "colab": {
          "base_uri": "https://localhost:8080/"
        },
        "id": "91VUPeHXDK9G",
        "outputId": "16dde7ba-d723-4146-c02d-0269a82025b6"
      },
      "execution_count": null,
      "outputs": [
        {
          "output_type": "stream",
          "name": "stdout",
          "text": [
            "10 19235123\n",
            "<class 'int'> <class 'int'>\n"
          ]
        }
      ]
    },
    {
      "cell_type": "markdown",
      "source": [
        "#### FLOTANTES (Float)"
      ],
      "metadata": {
        "id": "6EX058Lc9RMU"
      }
    },
    {
      "cell_type": "markdown",
      "source": [
        "> Números con decimal, positivos o negativos"
      ],
      "metadata": {
        "id": "b7vEziBh9UV6"
      }
    },
    {
      "cell_type": "code",
      "source": [
        "# << Presioná el botón play para ejecutar el código\n",
        "\n",
        "# EJEMPLO\n",
        "\n",
        "xx = 1.5\n",
        "yy = 1.529472932342893423\n",
        "\n",
        "print(xx,yy)\n",
        "print(type(xx),type(yy))"
      ],
      "metadata": {
        "colab": {
          "base_uri": "https://localhost:8080/"
        },
        "id": "Uv1aSzNXDPNl",
        "outputId": "a35fb802-2708-4feb-9ee4-6715ac92035b"
      },
      "execution_count": null,
      "outputs": [
        {
          "output_type": "stream",
          "name": "stdout",
          "text": [
            "1.5 1.5294729323428935\n",
            "<class 'float'> <class 'float'>\n"
          ]
        }
      ]
    },
    {
      "cell_type": "markdown",
      "source": [
        "#### COMPLEJOS (Complex)"
      ],
      "metadata": {
        "id": "GMf85bQ89XSL"
      }
    },
    {
      "cell_type": "markdown",
      "source": [
        "### Diccionario"
      ],
      "metadata": {
        "id": "x-HNCf1E80Yl"
      }
    },
    {
      "cell_type": "markdown",
      "source": [
        "### Booleano"
      ],
      "metadata": {
        "id": "x-2Y2Wvt8438"
      }
    },
    {
      "cell_type": "markdown",
      "source": [
        "> Contienen True o False"
      ],
      "metadata": {
        "id": "rSsPKRSo9ysc"
      }
    },
    {
      "cell_type": "markdown",
      "source": [
        "### Set de datos"
      ],
      "metadata": {
        "id": "CNyZ7NX586y0"
      }
    },
    {
      "cell_type": "markdown",
      "source": [
        "### Secuencia de valores"
      ],
      "metadata": {
        "id": "dlTNPqCy8_TM"
      }
    },
    {
      "cell_type": "markdown",
      "source": [
        "#### Cadena (Str / String)"
      ],
      "metadata": {
        "id": "s2Xmg-jc-inl"
      }
    },
    {
      "cell_type": "markdown",
      "source": [
        "> - Puede ser una secuencia de caracteres, o contener un valor alfa numérico, entre otras cosas\n",
        "- No permite operaciones matemáticas, pero si utiliza algunos operadores como el + o el * para realizar operaciones"
      ],
      "metadata": {
        "id": "HvrRHKML-HAU"
      }
    },
    {
      "cell_type": "code",
      "source": [
        "# << Presioná el botón play para ejecutar el código\n",
        "\n",
        "# EJEMPLO\n",
        "\n",
        "cadena = \"Hola\"\n",
        "cadena2 = 'Hola Mundo, 123!!'\n",
        "\n",
        "print(cadena,cadena2)\n",
        "print(type(cadena),type(cadena2))"
      ],
      "metadata": {
        "colab": {
          "base_uri": "https://localhost:8080/"
        },
        "id": "hurmxucCDl47",
        "outputId": "102cacac-9b42-4105-b5d7-58b78760644f"
      },
      "execution_count": null,
      "outputs": [
        {
          "output_type": "stream",
          "name": "stdout",
          "text": [
            "Hola Hola Mundo, 123!!\n",
            "<class 'str'> <class 'str'>\n"
          ]
        }
      ]
    },
    {
      "cell_type": "markdown",
      "source": [
        "#### Lista "
      ],
      "metadata": {
        "id": "S3W-yqRA-m97"
      }
    },
    {
      "cell_type": "markdown",
      "source": [
        "#### Tupla "
      ],
      "metadata": {
        "id": "KExu_WtD-pEP"
      }
    },
    {
      "cell_type": "markdown",
      "source": [
        "# Funciones"
      ],
      "metadata": {
        "id": "TSlDtI375K2W"
      }
    },
    {
      "cell_type": "markdown",
      "source": [
        "## print()"
      ],
      "metadata": {
        "id": "-CQg-a4q5iG1"
      }
    },
    {
      "cell_type": "markdown",
      "source": [
        "> - Sirve para mostrar información en la consola de ejecución\n",
        "- Soporta un sinfin de argumentos\n",
        "- Permite utilizar los parámetros SEP, END, FILE y FLUSH"
      ],
      "metadata": {
        "id": "jXvoiotg5x_B"
      }
    },
    {
      "cell_type": "code",
      "source": [
        "# << Presioná el botón play para ejecutar el código\n",
        "\n",
        "# EJEMPLO\n",
        "\n",
        "print(miVariable)\n",
        "\n",
        "print('miVariable tiene guardado el valor:',miVariable, \"y es del tipo:\", type(miVariable))\n",
        "\n",
        "print('miVariable tiene guardado el valor:',miVariable, \"y es del tipo:\", type(miVariable), sep=\" \", end=\"****\")\n",
        "\n"
      ],
      "metadata": {
        "colab": {
          "base_uri": "https://localhost:8080/"
        },
        "id": "mShf4tmE6GtG",
        "outputId": "d50f2d3c-92e2-4e02-8d6c-1750b20a89d7"
      },
      "execution_count": null,
      "outputs": [
        {
          "output_type": "stream",
          "name": "stdout",
          "text": [
            "1\n",
            "miVariable tiene guardado el valor: 1 y es del tipo: <class 'int'>\n",
            "miVariable tiene guardado el valor: 1 y es del tipo: <class 'int'>****"
          ]
        }
      ]
    },
    {
      "cell_type": "markdown",
      "source": [
        "### Parámetros"
      ],
      "metadata": {
        "id": "tMDKAQrK6aj5"
      }
    },
    {
      "cell_type": "markdown",
      "source": [
        "SEP"
      ],
      "metadata": {
        "id": "ik6aMrpG6dSi"
      }
    },
    {
      "cell_type": "markdown",
      "source": [
        "END"
      ],
      "metadata": {
        "id": "xuaWyQe86hRH"
      }
    },
    {
      "cell_type": "markdown",
      "source": [
        "FILE"
      ],
      "metadata": {
        "id": "xjjrjprS6iUD"
      }
    },
    {
      "cell_type": "markdown",
      "source": [
        "FLUSH"
      ],
      "metadata": {
        "id": "4Zke2k6R6kLp"
      }
    },
    {
      "cell_type": "markdown",
      "source": [
        "##id()\n",
        "\n",
        "- Nos indica el espacio de memoria donde se encuentra almacenado una variable\n",
        "- Devuelve un valor Hexadecimal"
      ],
      "metadata": {
        "id": "FJ-NjAdM5NIm"
      }
    },
    {
      "cell_type": "code",
      "source": [
        "# << Presioná el botón play para ejecutar el código\n",
        "\n",
        "# EJEMPLO\n",
        "\n",
        "print(id(miVariable))\n",
        "print(\"El espacio de memoria en donde está almacenado la variable es: \", id(miVariable))"
      ],
      "metadata": {
        "colab": {
          "base_uri": "https://localhost:8080/"
        },
        "id": "ciK1lkdt5Zti",
        "outputId": "389895e8-36d6-4658-b794-5b93025befb2"
      },
      "execution_count": null,
      "outputs": [
        {
          "output_type": "stream",
          "name": "stdout",
          "text": [
            "11256064\n",
            "El espacio de memoria en donde está almacenado la variable es:  11256064\n"
          ]
        }
      ]
    },
    {
      "cell_type": "markdown",
      "source": [
        "## input()"
      ],
      "metadata": {
        "id": "BPIeKbsGMLMU"
      }
    },
    {
      "cell_type": "markdown",
      "source": [
        "> - Se utiliza para permitir la entrada de datos, generando un software que no es \"sordo\"\n",
        "- Siempre devuelve valores de tipo Cadena / String"
      ],
      "metadata": {
        "id": "zt7WBMmyMOjJ"
      }
    },
    {
      "cell_type": "code",
      "source": [
        "# << Presioná el botón play para ejecutar el código\n",
        "\n",
        "# EJEMPLO\n",
        "\n",
        "Valor = input(\"ingrese un valor: \")\n",
        "print(\"usted ingresó:\",Valor,\"\\n¡Muchas gracias!\")"
      ],
      "metadata": {
        "colab": {
          "base_uri": "https://localhost:8080/"
        },
        "id": "w-WJIG5FPtde",
        "outputId": "98ad2fb8-af9d-4247-d5f8-cfca5e98bc51"
      },
      "execution_count": null,
      "outputs": [
        {
          "output_type": "stream",
          "name": "stdout",
          "text": [
            "ingrese un valor: 10\n",
            "usted ingresó: 10 \n",
            "¡Muchas gracias!\n"
          ]
        }
      ]
    },
    {
      "cell_type": "markdown",
      "source": [
        "## int()"
      ],
      "metadata": {
        "id": "-uwDCfcIRmeD"
      }
    },
    {
      "cell_type": "markdown",
      "source": [
        "> Transforma el tipo de dato a integer / Número entero"
      ],
      "metadata": {
        "id": "KAaOgPNoRqpy"
      }
    },
    {
      "cell_type": "code",
      "source": [
        "# << Presioná el botón play para ejecutar el código\n",
        "\n",
        "# EJEMPLO\n",
        "\n",
        "# Creamos una variable con un dato tipo string (solo a modo de ejemplo)\n",
        "dato_int = \"1\"\n",
        "# Mostramos en pantalla que tipo de dato es, solo para verificar\n",
        "print(\"dato_int guarda el valor:\",dato_int,\"y es de tipo:\",type(dato_int))\n",
        "# Aplicamos la función int() a la variable ya creada y así se cambia su tipo\n",
        "dato_int = int(dato_int)\n",
        "print(\"dato_int guarda el valor:\",dato_int,\"y es de tipo:\",type(dato_int))\n",
        "\n"
      ],
      "metadata": {
        "colab": {
          "base_uri": "https://localhost:8080/"
        },
        "id": "0OoIWJVdRx2r",
        "outputId": "d530865d-63ca-4f3f-c3e8-1646c79c17f9"
      },
      "execution_count": null,
      "outputs": [
        {
          "output_type": "stream",
          "name": "stdout",
          "text": [
            "dato_int guarda el valor: 1 y es de tipo: <class 'str'>\n",
            "dato_int guarda el valor: 1 y es de tipo: <class 'int'>\n"
          ]
        }
      ]
    }
  ]
}